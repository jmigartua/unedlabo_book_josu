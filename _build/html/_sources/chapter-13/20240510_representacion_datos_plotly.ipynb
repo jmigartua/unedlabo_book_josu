{
 "cells": [
  {
   "cell_type": "code",
   "execution_count": 2,
   "id": "2f7b3d5e",
   "metadata": {},
   "outputs": [
    {
     "data": {
      "text/html": [
       "<style>.container { width:100% !important; }</style>"
      ],
      "text/plain": [
       "<IPython.core.display.HTML object>"
      ]
     },
     "metadata": {},
     "output_type": "display_data"
    }
   ],
   "source": [
    "\n",
    "import plotly.express as px\n",
    "import pandas as pd\n",
    "import numpy as np"
   ]
  },
  {
   "cell_type": "code",
   "execution_count": 6,
   "id": "721760e7",
   "metadata": {},
   "outputs": [],
   "source": [
    "def figura_regresion(x, y, title='ioaisoipasip', x_label=r'x label ()', y_label='y label ()', size=8, zero=False, save=False):\n",
    "    \"\"\"\n",
    "    función para obtener los datos de la regresin lineal\n",
    "    \"\"\"\n",
    "    \n",
    "    p, cov = np.polyfit(x, y, 1, cov=True)\n",
    "    \n",
    "    plt.rc('text', usetex=True)\n",
    "    plt.rc('font', family='serif')\n",
    "\n",
    "    #print '    Pendiente y su error              ', round(p[0], 3),  round(np.sqrt(cov[0][0]), 3), 2*'\\n', \\\n",
    "    #      '    Ordenada en el origen y su error  ', round(p[1], 3),  round(np.sqrt(cov[1][1]), 3), 3*'\\n'\n",
    "    values = [round(p[0], 5), round(np.sqrt(cov[0][0]),5), round(p[1], 5), round(np.sqrt(cov[1][1]), 5)]\n",
    "    values_text = r'  $ m \\pm \\Delta m$ = ' \\\n",
    "    + str(round(p[0], 3)) \\\n",
    "    + r' $\\pm$ ' \\\n",
    "    + str(round(np.sqrt(cov[0][0]), 3)) + '$\\\\\\ \\\\\\$' \\\n",
    "    + r'  $\\indent n \\pm \\Delta n$ = ' + str(round(p[1], 3)) + r' $\\pm$ ' + str(round(np.sqrt(cov[1][1]), 3))\n",
    "   \n",
    "    figure = plt.figure(figsize=(size, size), constrained_layout=True);\n",
    "    spec_1 = gridspec.GridSpec(ncols=1, nrows=1, figure=figure)\n",
    "    fig_ax0 = figure.add_subplot(spec_1[0,0:4])\n",
    "    axes = [fig_ax0]\n",
    "    \n",
    "    for i in axes:\n",
    "        i.tick_params(axis='y', labelsize=20, pad=10, length=12)\n",
    "        i.tick_params(axis='x', labelsize=20, pad=10, length=12)\n",
    "    \n",
    "    #axes[0].set_title ('{}'.format(title),   fontsize=30, color='k', x=0.5, y= 1.10)\n",
    "    axes[0].set_xlabel('{}'.format(x_label), fontsize=20, x = 0.75, labelpad = 20)\n",
    "    axes[0].set_ylabel('{}'.format(y_label), fontsize=20, y = 0.75, labelpad = 20)\n",
    " \n",
    "    bbox = dict(boxstyle='round', fc='blanchedalmond', ec='orange', alpha=0.5)\n",
    "\n",
    "    if values[0] > 0:\n",
    "        axes[0].text(0.85, 0.05, values_text, fontsize=20, bbox=bbox, transform=axes[0].transAxes, horizontalalignment='right',)\n",
    "    else:\n",
    "        axes[0].text(0.85, 0.85, values_text, fontsize=20, bbox=bbox, transform=axes[0].transAxes, horizontalalignment='right',)\n",
    "    \n",
    "    axes[0].plot(x, p[0]*x+p[1], lw=4, c='r', alpha=0.2);\n",
    "    axes[0].scatter(x, np.polyval(p, x), s=80, marker='+', c='k');\n",
    "    axes[0].plot([0, min(x)], np.polyval(p, [0, min(x)]), lw=4, alpha =0.2, c='k');\n",
    "    \n",
    "    if zero:\n",
    "        axes[0].axvline(x=0, alpha=0.5, lw=2, color='skyblue')\n",
    "        axes[0].axhline(y=0, alpha=0.5, lw=2, color='skyblue')\n",
    "        \n",
    "#    if save:\n",
    "#        file_name = raw_input(u\"Introduce el nombre del archivo\\n para guardar la figura\\n\\n Se guardar\\'a en formato .pdf    \")\n",
    "#        axes[0].savefig(file_name + '.pdf', format='pdf')\n",
    "\n",
    "    \n",
    "    return [figure, values]\n"
   ]
  },
  {
   "cell_type": "markdown",
   "id": "9dadfa09",
   "metadata": {},
   "source": [
    "# Datos Práctica Electricidad I, \n",
    "\n",
    "## 2024-05-10"
   ]
  },
  {
   "cell_type": "code",
   "execution_count": 7,
   "id": "2fdc2a7c",
   "metadata": {},
   "outputs": [],
   "source": [
    "data_1 = pd.DataFrame({'resistencia': [10.,20.,50.,70.,100.,150.],\n",
    "                       'voltaje': [1371.,1420.,1452.,1461.,1465.,1469.]})\n",
    "\n",
    "data_2 = pd.DataFrame({'resistencia': [10.,20.,50.,100.,150.],\n",
    "                       'voltaje': [241.,416.,727.,973.,1097.]})\n",
    "\n",
    "data_3 = pd.DataFrame({'resistencia': [20.,50.,70.,100.,150.],\n",
    "                       'voltaje': [719.,1036.,1132.,1217.,1291]})"
   ]
  },
  {
   "cell_type": "markdown",
   "id": "8a684ea6",
   "metadata": {},
   "source": [
    "## Los mismos datos, en Plotly"
   ]
  },
  {
   "cell_type": "code",
   "execution_count": null,
   "id": "d9c9f244",
   "metadata": {},
   "outputs": [],
   "source": [
    "fig_data_1 = px.scatter(data_1, x=data_1[\"voltaje\"]/data_1[\"resistencia\"],\n",
    "                             y=data_1['voltaje'], \n",
    "                      trendline = 'ols',\n",
    "                     )\n",
    "fig_data_1.show()"
   ]
  },
  {
   "cell_type": "code",
   "execution_count": null,
   "id": "e2810409",
   "metadata": {},
   "outputs": [],
   "source": [
    "results_1 = px.get_trendline_results(fig_data_1)\n",
    "print(results_1)\n",
    "\n",
    "results_1.px_fit_results.iloc[0].summary()"
   ]
  }
 ],
 "metadata": {
  "kernelspec": {
   "display_name": "Python 3 (ipykernel)",
   "language": "python",
   "name": "python3"
  },
  "language_info": {
   "codemirror_mode": {
    "name": "ipython",
    "version": 3
   },
   "file_extension": ".py",
   "mimetype": "text/x-python",
   "name": "python",
   "nbconvert_exporter": "python",
   "pygments_lexer": "ipython3",
   "version": "3.10.9"
  }
 },
 "nbformat": 4,
 "nbformat_minor": 5
}
